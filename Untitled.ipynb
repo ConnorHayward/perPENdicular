{
 "cells": [
  {
   "cell_type": "code",
   "execution_count": 1,
   "metadata": {},
   "outputs": [
    {
     "data": {
      "text/html": [
       "<script>\n",
       "// Immediately-invoked-function-expression to avoid global variables.\n",
       "(function() {\n",
       "    var warning_div = document.getElementById(\"webio-warning-17044586597783026341\");\n",
       "    var hide = function () {\n",
       "        var script = document.getElementById(\"webio-setup-12193064242577762069\");\n",
       "        var parent = script && script.parentElement;\n",
       "        var grandparent = parent && parent.parentElement;\n",
       "        if (grandparent) {\n",
       "            grandparent.style.display = \"none\";\n",
       "        }\n",
       "        warning_div.style.display = \"none\";\n",
       "    };\n",
       "    if (typeof Jupyter !== \"undefined\") {\n",
       "        console.log(\"WebIO detected Jupyter notebook environment.\");\n",
       "        // Jupyter notebook.\n",
       "        var extensions = (\n",
       "            Jupyter\n",
       "            && Jupyter.notebook.config.data\n",
       "            && Jupyter.notebook.config.data.load_extensions\n",
       "        );\n",
       "        if (extensions && extensions[\"webio/main\"]) {\n",
       "            // Extension already loaded.\n",
       "            console.log(\"Jupyter WebIO nbextension detected; not loading ad-hoc.\");\n",
       "            hide();\n",
       "            return;\n",
       "        }\n",
       "        console.warn(\"Loading WebIO Jupyter extension on an ad-hoc basis. Consider enabling the WebIO nbextension for a stabler experience (this should happen automatically when building WebIO).\");\n",
       "        warning_div.innerHTML = \"<strong>Loading WebIO Jupyter extension on an ad-hoc basis. Consider enabling the WebIO nbextension for a stabler experience (this should happen automatically when building WebIO).</strong>\";\n",
       "    } else if (window.location.pathname.includes(\"/lab\")) {\n",
       "        // Guessing JupyterLa\n",
       "        console.log(\"Jupyter Lab detected; make sure the @webio/jupyter-lab-provider labextension is installed.\");\n",
       "        hide();\n",
       "        return;\n",
       "    }\n",
       "})();\n",
       "\n",
       "</script>\n",
       "<p\n",
       "    id=\"webio-warning-17044586597783026341\"\n",
       "    class=\"output_text output_stderr\"\n",
       "    style=\"padding: 1em; font-weight: bold;\"\n",
       ">\n",
       "    Unable to load WebIO. Please make sure WebIO works for your Jupyter client.\n",
       "    For troubleshooting, please see <a href=\"https://juliagizmos.github.io/WebIO.jl/latest/providers/ijulia/\">\n",
       "    the WebIO/IJulia documentation</a>.\n",
       "    <!-- TODO: link to installation docs. -->\n",
       "</p>\n"
      ],
      "text/plain": [
       "HTML{String}(\"<script>\\n// Immediately-invoked-function-expression to avoid global variables.\\n(function() {\\n    var warning_div = document.getElementById(\\\"webio-warning-17044586597783026341\\\");\\n    var hide = function () {\\n        var script = document.getElementById(\\\"webio-setup-12193064242577762069\\\");\\n        var parent = script && script.parentElement;\\n        var grandparent = parent && parent.parentElement;\\n        if (grandparent) {\\n            grandparent.style.display = \\\"none\\\";\\n        }\\n        warning_div.style.display = \\\"none\\\";\\n    };\\n    if (typeof Jupyter !== \\\"undefined\\\") {\\n        console.log(\\\"WebIO detected Jupyter notebook environment.\\\");\\n        // Jupyter notebook.\\n        var extensions = (\\n            Jupyter\\n            && Jupyter.notebook.config.data\\n            && Jupyter.notebook.config.data.load_extensions\\n        );\\n        if (extensions && extensions[\\\"webio/main\\\"]) {\\n            // Extension already loaded.\\n            console.log(\\\"Jupyter WebIO nbextension detected; not loading ad-hoc.\\\");\\n            hide();\\n            return;\\n        }\\n        console.warn(\\\"Loading WebIO Jupyter extension on an ad-hoc basis. Consider enabling the WebIO nbextension for a stabler experience (this should happen automatically when building WebIO).\\\");\\n        warning_div.innerHTML = \\\"<strong>Loading WebIO Jupyter extension on an ad-hoc basis. Consider enabling the WebIO nbextension for a stabler experience (this should happen automatically when building WebIO).</strong>\\\";\\n    } else if (window.location.pathname.includes(\\\"/lab\\\")) {\\n        // Guessing JupyterLa\\n        console.log(\\\"Jupyter Lab detected; make sure the @webio/jupyter-lab-provider labextension is installed.\\\");\\n        hide();\\n        return;\\n    }\\n})();\\n\\n</script>\\n<p\\n    id=\\\"webio-warning-17044586597783026341\\\"\\n    class=\\\"output_text output_stderr\\\"\\n    style=\\\"padding: 1em; font-weight: bold;\\\"\\n>\\n    Unable to load WebIO. Please make sure WebIO works for your Jupyter client.\\n    For troubleshooting, please see <a href=\\\"https://juliagizmos.github.io/WebIO.jl/latest/providers/ijulia/\\\">\\n    the WebIO/IJulia documentation</a>.\\n    <!-- TODO: link to installation docs. -->\\n</p>\\n\")"
      ]
     },
     "metadata": {},
     "output_type": "display_data"
    },
    {
     "data": {
      "text/plain": [
       "Window(1, Electron(Process(`\u001b[4m/user/.julia/packages/Blink/AO8uN/deps/atom/electron\u001b[24m \u001b[4m/user/.julia/packages/Blink/AO8uN/src/AtomShell/main.js\u001b[24m \u001b[4mport\u001b[24m \u001b[4m9392\u001b[24m`, ProcessRunning), Sockets.TCPSocket(RawFD(0x00000030) active, 0 bytes waiting), Dict{String,Any}(\"callback\"=>##1#2())), Page(1, WebSocket(server, \u001b[32mCONNECTED\u001b[39m), Dict{String,Any}(\"webio\"=>##26#27{WebIOBlinkComm}(WebIOBlinkComm(Window(#= circular reference @-5 =#))),\"callback\"=>##1#2()), Distributed.Future(1, 1, 1, Some(true))), Task (done) @0x00007f0e8d4f7340)"
      ]
     },
     "execution_count": 1,
     "metadata": {},
     "output_type": "execute_result"
    }
   ],
   "source": [
    "using DataFrames, CSV, StatsBase, LsqFit, Blink, Glob,  Plots\n",
    "w=Window()"
   ]
  },
  {
   "cell_type": "code",
   "execution_count": 78,
   "metadata": {},
   "outputs": [
    {
     "ename": "Pkg.Types.PkgError",
     "evalue": "https://github.com/ConnorHayward/PENSpecAnalysis.jl is not a valid packagename.\nThe argument appears to be a URL or path, perhaps you meant `Pkg.add(PackageSpec(url=\"...\"))` or `Pkg.add(PackageSpec(path=\"...\"))`.",
     "output_type": "error",
     "traceback": [
      "https://github.com/ConnorHayward/PENSpecAnalysis.jl is not a valid packagename.\nThe argument appears to be a URL or path, perhaps you meant `Pkg.add(PackageSpec(url=\"...\"))` or `Pkg.add(PackageSpec(path=\"...\"))`.",
      "",
      "Stacktrace:",
      " [1] pkgerror(::String) at /buildworker/worker/package_linux64/build/usr/share/julia/stdlib/v1.1/Pkg/src/Types.jl:120",
      " [2] check_package_name(::String, ::Symbol) at /buildworker/worker/package_linux64/build/usr/share/julia/stdlib/v1.1/Pkg/src/API.jl:28",
      " [3] #14 at ./none:0 [inlined]",
      " [4] iterate at ./generator.jl:47 [inlined]",
      " [5] collect(::Base.Generator{Array{String,1},getfield(Pkg.API, Symbol(\"##14#15\")){Symbol}}) at ./array.jl:606",
      " [6] #add_or_develop#13 at /buildworker/worker/package_linux64/build/usr/share/julia/stdlib/v1.1/Pkg/src/API.jl:34 [inlined]",
      " [7] #add_or_develop at ./none:0 [inlined]",
      " [8] #add_or_develop#12(::Base.Iterators.Pairs{Symbol,Symbol,Tuple{Symbol},NamedTuple{(:mode,),Tuple{Symbol}}}, ::Function, ::String) at /buildworker/worker/package_linux64/build/usr/share/julia/stdlib/v1.1/Pkg/src/API.jl:33",
      " [9] #add_or_develop at ./none:0 [inlined]",
      " [10] #add#22 at /buildworker/worker/package_linux64/build/usr/share/julia/stdlib/v1.1/Pkg/src/API.jl:64 [inlined]",
      " [11] add(::String) at /buildworker/worker/package_linux64/build/usr/share/julia/stdlib/v1.1/Pkg/src/API.jl:64",
      " [12] top-level scope at In[78]:2"
     ]
    }
   ],
   "source": []
  },
  {
   "cell_type": "code",
   "execution_count": 46,
   "metadata": {},
   "outputs": [
    {
     "data": {
      "text/html": [
       "<table class=\"data-frame\"><thead><tr><th></th><th>Wavelength</th><th>ABS</th><th>EMS</th><th>RI</th></tr><tr><th></th><th>Float64</th><th>Float64</th><th>Float64</th><th>Float64</th></tr></thead><tbody><p>102 rows × 4 columns</p><tr><th>1</th><td>499.998</td><td>17.5865</td><td>0.231131</td><td>1.638</td></tr><tr><th>2</th><td>499.013</td><td>17.5865</td><td>0.245738</td><td>1.638</td></tr><tr><th>3</th><td>497.991</td><td>17.3933</td><td>0.267133</td><td>1.638</td></tr><tr><th>4</th><td>497.006</td><td>17.482</td><td>0.288442</td><td>1.638</td></tr><tr><th>5</th><td>495.983</td><td>17.4253</td><td>0.299355</td><td>1.638</td></tr><tr><th>6</th><td>494.998</td><td>17.3583</td><td>0.303391</td><td>1.638</td></tr><tr><th>7</th><td>494.012</td><td>17.3583</td><td>0.289293</td><td>1.638</td></tr><tr><th>8</th><td>492.989</td><td>17.27</td><td>0.283545</td><td>1.638</td></tr><tr><th>9</th><td>492.003</td><td>17.3226</td><td>0.28193</td><td>1.638</td></tr><tr><th>10</th><td>491.017</td><td>17.3226</td><td>0.291397</td><td>1.638</td></tr><tr><th>11</th><td>489.993</td><td>17.1804</td><td>0.302378</td><td>1.638</td></tr><tr><th>12</th><td>489.006</td><td>17.0937</td><td>0.310572</td><td>1.638</td></tr><tr><th>13</th><td>487.982</td><td>16.989</td><td>0.335736</td><td>1.638</td></tr><tr><th>14</th><td>486.995</td><td>16.9812</td><td>0.352552</td><td>1.638</td></tr><tr><th>15</th><td>486.008</td><td>16.9276</td><td>0.368928</td><td>1.638</td></tr><tr><th>16</th><td>484.983</td><td>17.0545</td><td>0.37053</td><td>1.638</td></tr><tr><th>17</th><td>483.995</td><td>16.947</td><td>0.370353</td><td>1.638</td></tr><tr><th>18</th><td>483.007</td><td>16.9057</td><td>0.374859</td><td>1.638</td></tr><tr><th>19</th><td>481.982</td><td>16.9739</td><td>0.379649</td><td>1.638</td></tr><tr><th>20</th><td>480.994</td><td>16.9528</td><td>0.392405</td><td>1.638</td></tr><tr><th>21</th><td>480.005</td><td>16.8954</td><td>0.399113</td><td>1.638</td></tr><tr><th>22</th><td>479.017</td><td>16.8954</td><td>0.412109</td><td>1.638</td></tr><tr><th>23</th><td>477.99</td><td>16.9181</td><td>0.433773</td><td>1.638</td></tr><tr><th>24</th><td>477.001</td><td>16.8525</td><td>0.443313</td><td>1.638</td></tr><tr><th>25</th><td>476.012</td><td>16.9408</td><td>0.451074</td><td>1.638</td></tr><tr><th>26</th><td>474.985</td><td>16.8906</td><td>0.466362</td><td>1.638</td></tr><tr><th>27</th><td>473.996</td><td>16.8521</td><td>0.479241</td><td>1.638</td></tr><tr><th>28</th><td>473.006</td><td>16.7253</td><td>0.485157</td><td>1.638</td></tr><tr><th>29</th><td>472.016</td><td>16.9327</td><td>0.498223</td><td>1.638</td></tr><tr><th>30</th><td>470.988</td><td>16.7982</td><td>0.524433</td><td>1.638</td></tr><tr><th>&vellip;</th><td>&vellip;</td><td>&vellip;</td><td>&vellip;</td><td>&vellip;</td></tr></tbody></table>"
      ],
      "text/latex": [
       "\\begin{tabular}{r|cccc}\n",
       "\t& Wavelength & ABS & EMS & RI\\\\\n",
       "\t\\hline\n",
       "\t& Float64 & Float64 & Float64 & Float64\\\\\n",
       "\t\\hline\n",
       "\t1 & 499.998 & 17.5865 & 0.231131 & 1.638 \\\\\n",
       "\t2 & 499.013 & 17.5865 & 0.245738 & 1.638 \\\\\n",
       "\t3 & 497.991 & 17.3933 & 0.267133 & 1.638 \\\\\n",
       "\t4 & 497.006 & 17.482 & 0.288442 & 1.638 \\\\\n",
       "\t5 & 495.983 & 17.4253 & 0.299355 & 1.638 \\\\\n",
       "\t6 & 494.998 & 17.3583 & 0.303391 & 1.638 \\\\\n",
       "\t7 & 494.012 & 17.3583 & 0.289293 & 1.638 \\\\\n",
       "\t8 & 492.989 & 17.27 & 0.283545 & 1.638 \\\\\n",
       "\t9 & 492.003 & 17.3226 & 0.28193 & 1.638 \\\\\n",
       "\t10 & 491.017 & 17.3226 & 0.291397 & 1.638 \\\\\n",
       "\t11 & 489.993 & 17.1804 & 0.302378 & 1.638 \\\\\n",
       "\t12 & 489.006 & 17.0937 & 0.310572 & 1.638 \\\\\n",
       "\t13 & 487.982 & 16.989 & 0.335736 & 1.638 \\\\\n",
       "\t14 & 486.995 & 16.9812 & 0.352552 & 1.638 \\\\\n",
       "\t15 & 486.008 & 16.9276 & 0.368928 & 1.638 \\\\\n",
       "\t16 & 484.983 & 17.0545 & 0.37053 & 1.638 \\\\\n",
       "\t17 & 483.995 & 16.947 & 0.370353 & 1.638 \\\\\n",
       "\t18 & 483.007 & 16.9057 & 0.374859 & 1.638 \\\\\n",
       "\t19 & 481.982 & 16.9739 & 0.379649 & 1.638 \\\\\n",
       "\t20 & 480.994 & 16.9528 & 0.392405 & 1.638 \\\\\n",
       "\t21 & 480.005 & 16.8954 & 0.399113 & 1.638 \\\\\n",
       "\t22 & 479.017 & 16.8954 & 0.412109 & 1.638 \\\\\n",
       "\t23 & 477.99 & 16.9181 & 0.433773 & 1.638 \\\\\n",
       "\t24 & 477.001 & 16.8525 & 0.443313 & 1.638 \\\\\n",
       "\t25 & 476.012 & 16.9408 & 0.451074 & 1.638 \\\\\n",
       "\t26 & 474.985 & 16.8906 & 0.466362 & 1.638 \\\\\n",
       "\t27 & 473.996 & 16.8521 & 0.479241 & 1.638 \\\\\n",
       "\t28 & 473.006 & 16.7253 & 0.485157 & 1.638 \\\\\n",
       "\t29 & 472.016 & 16.9327 & 0.498223 & 1.638 \\\\\n",
       "\t30 & 470.988 & 16.7982 & 0.524433 & 1.638 \\\\\n",
       "\t$\\dots$ & $\\dots$ & $\\dots$ & $\\dots$ & $\\dots$ \\\\\n",
       "\\end{tabular}\n"
      ],
      "text/plain": [
       "102×4 DataFrame\n",
       "│ Row │ Wavelength │ ABS     │ EMS      │ RI      │\n",
       "│     │ \u001b[90mFloat64\u001b[39m    │ \u001b[90mFloat64\u001b[39m │ \u001b[90mFloat64\u001b[39m  │ \u001b[90mFloat64\u001b[39m │\n",
       "├─────┼────────────┼─────────┼──────────┼─────────┤\n",
       "│ 1   │ 499.998    │ 17.5865 │ 0.231131 │ 1.638   │\n",
       "│ 2   │ 499.013    │ 17.5865 │ 0.245738 │ 1.638   │\n",
       "│ 3   │ 497.991    │ 17.3933 │ 0.267133 │ 1.638   │\n",
       "│ 4   │ 497.006    │ 17.482  │ 0.288442 │ 1.638   │\n",
       "│ 5   │ 495.983    │ 17.4253 │ 0.299355 │ 1.638   │\n",
       "│ 6   │ 494.998    │ 17.3583 │ 0.303391 │ 1.638   │\n",
       "│ 7   │ 494.012    │ 17.3583 │ 0.289293 │ 1.638   │\n",
       "│ 8   │ 492.989    │ 17.27   │ 0.283545 │ 1.638   │\n",
       "│ 9   │ 492.003    │ 17.3226 │ 0.28193  │ 1.638   │\n",
       "│ 10  │ 491.017    │ 17.3226 │ 0.291397 │ 1.638   │\n",
       "⋮\n",
       "│ 92  │ 409.018    │ 6.6057  │ 0.801697 │ 1.638   │\n",
       "│ 93  │ 408.017    │ 6.14473 │ 0.792328 │ 1.638   │\n",
       "│ 94  │ 407.016    │ 5.64117 │ 0.758968 │ 1.638   │\n",
       "│ 95  │ 406.014    │ 5.12523 │ 0.746664 │ 1.638   │\n",
       "│ 96  │ 405.012    │ 4.64298 │ 0.706097 │ 1.638   │\n",
       "│ 97  │ 404.01     │ 4.15101 │ 0.697302 │ 1.638   │\n",
       "│ 98  │ 403.008    │ 3.65927 │ 0.650954 │ 1.638   │\n",
       "│ 99  │ 402.006    │ 3.20377 │ 0.635851 │ 1.638   │\n",
       "│ 100 │ 401.003    │ 2.39217 │ 0.599222 │ 1.638   │\n",
       "│ 101 │ 400.0      │ 2.04832 │ 0.58563  │ 1.638   │\n",
       "│ 102 │ 399.0      │ 0.0     │ 0.57     │ 1.638   │"
      ]
     },
     "execution_count": 46,
     "metadata": {},
     "output_type": "execute_result"
    }
   ],
   "source": [
    "ems_file = \"input_files/Exp4.csv\"\n",
    "df = CSV.read(ems_file, delim = ',', header = [\"Wavelength\", \"ABS\",\"EMS\",\"RI\"])"
   ]
  },
  {
   "cell_type": "code",
   "execution_count": 51,
   "metadata": {},
   "outputs": [
    {
     "data": {
      "image/svg+xml": [
       "<?xml version=\"1.0\" encoding=\"utf-8\"?>\n",
       "<svg xmlns=\"http://www.w3.org/2000/svg\" xmlns:xlink=\"http://www.w3.org/1999/xlink\" width=\"600\" height=\"400\" viewBox=\"0 0 2400 1600\">\n",
       "<defs>\n",
       "  <clipPath id=\"clip8700\">\n",
       "    <rect x=\"0\" y=\"0\" width=\"2400\" height=\"1600\"/>\n",
       "  </clipPath>\n",
       "</defs>\n",
       "<polygon clip-path=\"url(#clip8700)\" points=\"\n",
       "0,1600 2400,1600 2400,0 0,0 \n",
       "  \" fill=\"#ffffff\" fill-rule=\"evenodd\" fill-opacity=\"1\"/>\n",
       "<defs>\n",
       "  <clipPath id=\"clip8701\">\n",
       "    <rect x=\"480\" y=\"0\" width=\"1681\" height=\"1600\"/>\n",
       "  </clipPath>\n",
       "</defs>\n",
       "<polygon clip-path=\"url(#clip8700)\" points=\"\n",
       "194.041,1487.47 2352.76,1487.47 2352.76,47.2441 194.041,47.2441 \n",
       "  \" fill=\"#ffffff\" fill-rule=\"evenodd\" fill-opacity=\"1\"/>\n",
       "<defs>\n",
       "  <clipPath id=\"clip8702\">\n",
       "    <rect x=\"194\" y=\"47\" width=\"2160\" height=\"1441\"/>\n",
       "  </clipPath>\n",
       "</defs>\n",
       "<polyline clip-path=\"url(#clip8702)\" style=\"stroke:#000000; stroke-width:2; stroke-opacity:0.1; fill:none\" points=\"\n",
       "  275.301,1487.47 275.301,47.2441 \n",
       "  \"/>\n",
       "<polyline clip-path=\"url(#clip8702)\" style=\"stroke:#000000; stroke-width:2; stroke-opacity:0.1; fill:none\" points=\"\n",
       "  779.391,1487.47 779.391,47.2441 \n",
       "  \"/>\n",
       "<polyline clip-path=\"url(#clip8702)\" style=\"stroke:#000000; stroke-width:2; stroke-opacity:0.1; fill:none\" points=\"\n",
       "  1283.48,1487.47 1283.48,47.2441 \n",
       "  \"/>\n",
       "<polyline clip-path=\"url(#clip8702)\" style=\"stroke:#000000; stroke-width:2; stroke-opacity:0.1; fill:none\" points=\"\n",
       "  1787.57,1487.47 1787.57,47.2441 \n",
       "  \"/>\n",
       "<polyline clip-path=\"url(#clip8702)\" style=\"stroke:#000000; stroke-width:2; stroke-opacity:0.1; fill:none\" points=\"\n",
       "  2291.66,1487.47 2291.66,47.2441 \n",
       "  \"/>\n",
       "<polyline clip-path=\"url(#clip8702)\" style=\"stroke:#000000; stroke-width:2; stroke-opacity:0.1; fill:none\" points=\"\n",
       "  194.041,1446.71 2352.76,1446.71 \n",
       "  \"/>\n",
       "<polyline clip-path=\"url(#clip8702)\" style=\"stroke:#000000; stroke-width:2; stroke-opacity:0.1; fill:none\" points=\"\n",
       "  194.041,1131.91 2352.76,1131.91 \n",
       "  \"/>\n",
       "<polyline clip-path=\"url(#clip8702)\" style=\"stroke:#000000; stroke-width:2; stroke-opacity:0.1; fill:none\" points=\"\n",
       "  194.041,817.099 2352.76,817.099 \n",
       "  \"/>\n",
       "<polyline clip-path=\"url(#clip8702)\" style=\"stroke:#000000; stroke-width:2; stroke-opacity:0.1; fill:none\" points=\"\n",
       "  194.041,502.292 2352.76,502.292 \n",
       "  \"/>\n",
       "<polyline clip-path=\"url(#clip8702)\" style=\"stroke:#000000; stroke-width:2; stroke-opacity:0.1; fill:none\" points=\"\n",
       "  194.041,187.484 2352.76,187.484 \n",
       "  \"/>\n",
       "<polyline clip-path=\"url(#clip8700)\" style=\"stroke:#000000; stroke-width:4; stroke-opacity:1; fill:none\" points=\"\n",
       "  194.041,1487.47 2352.76,1487.47 \n",
       "  \"/>\n",
       "<polyline clip-path=\"url(#clip8700)\" style=\"stroke:#000000; stroke-width:4; stroke-opacity:1; fill:none\" points=\"\n",
       "  194.041,1487.47 194.041,47.2441 \n",
       "  \"/>\n",
       "<polyline clip-path=\"url(#clip8700)\" style=\"stroke:#000000; stroke-width:4; stroke-opacity:1; fill:none\" points=\"\n",
       "  275.301,1487.47 275.301,1465.87 \n",
       "  \"/>\n",
       "<polyline clip-path=\"url(#clip8700)\" style=\"stroke:#000000; stroke-width:4; stroke-opacity:1; fill:none\" points=\"\n",
       "  779.391,1487.47 779.391,1465.87 \n",
       "  \"/>\n",
       "<polyline clip-path=\"url(#clip8700)\" style=\"stroke:#000000; stroke-width:4; stroke-opacity:1; fill:none\" points=\"\n",
       "  1283.48,1487.47 1283.48,1465.87 \n",
       "  \"/>\n",
       "<polyline clip-path=\"url(#clip8700)\" style=\"stroke:#000000; stroke-width:4; stroke-opacity:1; fill:none\" points=\"\n",
       "  1787.57,1487.47 1787.57,1465.87 \n",
       "  \"/>\n",
       "<polyline clip-path=\"url(#clip8700)\" style=\"stroke:#000000; stroke-width:4; stroke-opacity:1; fill:none\" points=\"\n",
       "  2291.66,1487.47 2291.66,1465.87 \n",
       "  \"/>\n",
       "<polyline clip-path=\"url(#clip8700)\" style=\"stroke:#000000; stroke-width:4; stroke-opacity:1; fill:none\" points=\"\n",
       "  194.041,1446.71 226.422,1446.71 \n",
       "  \"/>\n",
       "<polyline clip-path=\"url(#clip8700)\" style=\"stroke:#000000; stroke-width:4; stroke-opacity:1; fill:none\" points=\"\n",
       "  194.041,1131.91 226.422,1131.91 \n",
       "  \"/>\n",
       "<polyline clip-path=\"url(#clip8700)\" style=\"stroke:#000000; stroke-width:4; stroke-opacity:1; fill:none\" points=\"\n",
       "  194.041,817.099 226.422,817.099 \n",
       "  \"/>\n",
       "<polyline clip-path=\"url(#clip8700)\" style=\"stroke:#000000; stroke-width:4; stroke-opacity:1; fill:none\" points=\"\n",
       "  194.041,502.292 226.422,502.292 \n",
       "  \"/>\n",
       "<polyline clip-path=\"url(#clip8700)\" style=\"stroke:#000000; stroke-width:4; stroke-opacity:1; fill:none\" points=\"\n",
       "  194.041,187.484 226.422,187.484 \n",
       "  \"/>\n",
       "<g clip-path=\"url(#clip8700)\">\n",
       "<text style=\"fill:#000000; fill-opacity:1; font-family:Arial,Helvetica Neue,Helvetica,sans-serif; font-size:48px; text-anchor:middle;\" transform=\"rotate(0, 275.301, 1541.47)\" x=\"275.301\" y=\"1541.47\">400</text>\n",
       "</g>\n",
       "<g clip-path=\"url(#clip8700)\">\n",
       "<text style=\"fill:#000000; fill-opacity:1; font-family:Arial,Helvetica Neue,Helvetica,sans-serif; font-size:48px; text-anchor:middle;\" transform=\"rotate(0, 779.391, 1541.47)\" x=\"779.391\" y=\"1541.47\">425</text>\n",
       "</g>\n",
       "<g clip-path=\"url(#clip8700)\">\n",
       "<text style=\"fill:#000000; fill-opacity:1; font-family:Arial,Helvetica Neue,Helvetica,sans-serif; font-size:48px; text-anchor:middle;\" transform=\"rotate(0, 1283.48, 1541.47)\" x=\"1283.48\" y=\"1541.47\">450</text>\n",
       "</g>\n",
       "<g clip-path=\"url(#clip8700)\">\n",
       "<text style=\"fill:#000000; fill-opacity:1; font-family:Arial,Helvetica Neue,Helvetica,sans-serif; font-size:48px; text-anchor:middle;\" transform=\"rotate(0, 1787.57, 1541.47)\" x=\"1787.57\" y=\"1541.47\">475</text>\n",
       "</g>\n",
       "<g clip-path=\"url(#clip8700)\">\n",
       "<text style=\"fill:#000000; fill-opacity:1; font-family:Arial,Helvetica Neue,Helvetica,sans-serif; font-size:48px; text-anchor:middle;\" transform=\"rotate(0, 2291.66, 1541.47)\" x=\"2291.66\" y=\"1541.47\">500</text>\n",
       "</g>\n",
       "<g clip-path=\"url(#clip8700)\">\n",
       "<text style=\"fill:#000000; fill-opacity:1; font-family:Arial,Helvetica Neue,Helvetica,sans-serif; font-size:48px; text-anchor:end;\" transform=\"rotate(0, 170.041, 1464.21)\" x=\"170.041\" y=\"1464.21\">0</text>\n",
       "</g>\n",
       "<g clip-path=\"url(#clip8700)\">\n",
       "<text style=\"fill:#000000; fill-opacity:1; font-family:Arial,Helvetica Neue,Helvetica,sans-serif; font-size:48px; text-anchor:end;\" transform=\"rotate(0, 170.041, 1149.41)\" x=\"170.041\" y=\"1149.41\">250</text>\n",
       "</g>\n",
       "<g clip-path=\"url(#clip8700)\">\n",
       "<text style=\"fill:#000000; fill-opacity:1; font-family:Arial,Helvetica Neue,Helvetica,sans-serif; font-size:48px; text-anchor:end;\" transform=\"rotate(0, 170.041, 834.599)\" x=\"170.041\" y=\"834.599\">500</text>\n",
       "</g>\n",
       "<g clip-path=\"url(#clip8700)\">\n",
       "<text style=\"fill:#000000; fill-opacity:1; font-family:Arial,Helvetica Neue,Helvetica,sans-serif; font-size:48px; text-anchor:end;\" transform=\"rotate(0, 170.041, 519.792)\" x=\"170.041\" y=\"519.792\">750</text>\n",
       "</g>\n",
       "<g clip-path=\"url(#clip8700)\">\n",
       "<text style=\"fill:#000000; fill-opacity:1; font-family:Arial,Helvetica Neue,Helvetica,sans-serif; font-size:48px; text-anchor:end;\" transform=\"rotate(0, 170.041, 204.984)\" x=\"170.041\" y=\"204.984\">1000</text>\n",
       "</g>\n",
       "<polyline clip-path=\"url(#clip8702)\" style=\"stroke:#009af9; stroke-width:4; stroke-opacity:1; fill:none\" points=\"\n",
       "  255.137,1446.71 255.137,569.031 265.219,569.031 265.219,609.326 275.301,609.326 275.301,547.624 285.383,547.624 285.383,550.142 295.464,550.142 295.464,537.55 \n",
       "  305.546,537.55 305.546,518.662 315.628,518.662 315.628,571.549 325.71,571.549 325.71,570.29 335.792,570.29 335.792,503.551 345.873,503.551 345.873,518.662 \n",
       "  355.955,518.662 355.955,444.367 366.037,444.367 366.037,450.663 376.119,450.663 376.119,446.886 386.201,446.886 386.201,405.331 396.282,405.331 396.282,309.63 \n",
       "  406.364,309.63 406.364,370.073 416.446,370.073 416.446,474.589 426.528,474.589 426.528,420.442 436.61,420.442 436.61,362.517 446.691,362.517 446.691,347.407 \n",
       "  456.773,347.407 456.773,268.075 466.855,268.075 466.855,356.221 476.937,356.221 476.937,315.926 487.019,315.926 487.019,333.555 497.1,333.555 497.1,205.114 \n",
       "  507.182,205.114 507.182,259.26 517.264,259.26 517.264,197.558 527.346,197.558 527.346,196.299 537.427,196.299 537.427,182.448 547.509,182.448 547.509,265.557 \n",
       "  557.591,265.557 557.591,254.224 567.673,254.224 567.673,217.706 577.755,217.706 577.755,208.891 587.836,208.891 587.836,161.041 597.918,161.041 597.918,124.523 \n",
       "  608,124.523 608,193.781 618.082,193.781 618.082,192.521 628.164,192.521 628.164,88.0053 638.245,88.0053 638.245,138.375 648.327,138.375 648.327,197.558 \n",
       "  658.409,197.558 658.409,89.2646 668.491,89.2646 668.491,167.337 678.573,167.337 678.573,190.003 688.654,190.003 688.654,191.262 698.736,191.262 698.736,217.706 \n",
       "  708.818,217.706 708.818,196.299 718.9,196.299 718.9,216.447 728.982,216.447 728.982,166.078 739.063,166.078 739.063,201.336 749.145,201.336 749.145,122.005 \n",
       "  759.227,122.005 759.227,143.411 769.309,143.411 769.309,99.3384 779.391,99.3384 779.391,153.485 789.472,153.485 789.472,220.224 799.554,220.224 799.554,207.632 \n",
       "  809.636,207.632 809.636,169.855 819.718,169.855 819.718,212.669 829.8,212.669 829.8,216.447 839.881,216.447 839.881,237.854 849.963,237.854 849.963,158.522 \n",
       "  860.045,158.522 860.045,161.041 870.127,161.041 870.127,108.153 880.209,108.153 880.209,192.521 890.29,192.521 890.29,191.262 900.372,191.262 900.372,211.41 \n",
       "  910.454,211.41 910.454,218.965 920.536,218.965 920.536,145.93 930.618,145.93 930.618,230.298 940.699,230.298 940.699,237.854 950.781,237.854 950.781,231.557 \n",
       "  960.863,231.557 960.863,300.815 970.945,300.815 970.945,288.223 981.027,288.223 981.027,259.26 991.108,259.26 991.108,280.667 1001.19,280.667 1001.19,324.74 \n",
       "  1011.27,324.74 1011.27,249.187 1021.35,249.187 1021.35,307.111 1031.44,307.111 1031.44,286.964 1041.52,286.964 1041.52,264.297 1051.6,264.297 1051.6,309.63 \n",
       "  1061.68,309.63 1061.68,320.963 1071.76,320.963 1071.76,362.517 1081.84,362.517 1081.84,308.37 1091.93,308.37 1091.93,351.184 1102.01,351.184 1102.01,358.74 \n",
       "  1112.09,358.74 1112.09,361.258 1122.17,361.258 1122.17,393.998 1132.25,393.998 1132.25,343.629 1142.34,343.629 1142.34,347.407 1152.42,347.407 1152.42,318.444 \n",
       "  1162.5,318.444 1162.5,490.959 1172.58,490.959 1172.58,342.37 1182.66,342.37 1182.66,388.961 1192.74,388.961 1192.74,396.516 1202.83,396.516 1202.83,426.738 \n",
       "  1212.91,426.738 1212.91,400.294 1222.99,400.294 1222.99,448.145 1233.07,448.145 1233.07,464.515 1243.15,464.515 1243.15,460.737 1253.24,460.737 1253.24,546.365 \n",
       "  1263.32,546.365 1263.32,516.143 1273.4,516.143 1273.4,465.774 1283.48,465.774 1283.48,541.328 1293.56,541.328 1293.56,585.401 1303.64,585.401 1303.64,558.957 \n",
       "  1313.73,558.957 1313.73,553.92 1323.81,553.92 1323.81,548.883 1333.89,548.883 1333.89,541.328 1343.97,541.328 1343.97,605.548 1354.05,605.548 1354.05,533.772 \n",
       "  1364.13,533.772 1364.13,600.512 1374.22,600.512 1374.22,609.326 1384.3,609.326 1384.3,611.845 1394.38,611.845 1394.38,653.399 1404.46,653.399 1404.46,663.473 \n",
       "  1414.54,663.473 1414.54,587.919 1424.63,587.919 1424.63,611.845 1434.71,611.845 1434.71,642.066 1444.79,642.066 1444.79,663.473 1454.87,663.473 1454.87,643.325 \n",
       "  1464.95,643.325 1464.95,735.249 1475.03,735.249 1475.03,653.399 1485.12,653.399 1485.12,741.545 1495.2,741.545 1495.2,694.954 1505.28,694.954 1505.28,732.731 \n",
       "  1515.36,732.731 1515.36,731.471 1525.44,731.471 1525.44,752.878 1535.53,752.878 1535.53,804.507 1545.61,804.507 1545.61,780.581 1555.69,780.581 1555.69,804.507 \n",
       "  1565.77,804.507 1565.77,825.914 1575.85,825.914 1575.85,730.212 1585.93,730.212 1585.93,801.988 1596.02,801.988 1596.02,829.691 1606.1,829.691 1606.1,819.617 \n",
       "  1616.18,819.617 1616.18,784.359 1626.26,784.359 1626.26,869.987 1636.34,869.987 1636.34,839.765 1646.43,839.765 1646.43,804.507 1656.51,804.507 1656.51,852.357 \n",
       "  1666.59,852.357 1666.59,856.135 1676.67,856.135 1676.67,859.913 1686.75,859.913 1686.75,891.393 1696.83,891.393 1696.83,941.763 1706.92,941.763 1706.92,916.578 \n",
       "  1717,916.578 1717,932.948 1727.08,932.948 1727.08,984.576 1737.16,984.576 1737.16,940.503 1747.24,940.503 1747.24,930.43 1757.32,930.43 1757.32,920.356 \n",
       "  1767.41,920.356 1767.41,925.393 1777.49,925.393 1777.49,971.984 1787.57,971.984 1787.57,985.836 1797.65,985.836 1797.65,946.8 1807.73,946.8 1807.73,950.577 \n",
       "  1817.82,950.577 1817.82,1012.28 1827.9,1012.28 1827.9,1003.46 1837.98,1003.46 1837.98,1000.95 1848.06,1000.95 1848.06,1003.46 1858.14,1003.46 1858.14,999.687 \n",
       "  1868.22,999.687 1868.22,1045.02 1878.31,1045.02 1878.31,1043.76 1888.39,1043.76 1888.39,1032.43 1898.47,1032.43 1898.47,1047.54 1908.55,1047.54 1908.55,1029.91 \n",
       "  1918.63,1029.91 1918.63,1041.24 1928.72,1041.24 1928.72,1084.06 1938.8,1084.06 1938.8,1085.31 1948.88,1085.31 1948.88,1067.69 1958.96,1067.69 1958.96,1071.46 \n",
       "  1969.04,1071.46 1969.04,1106.72 1979.12,1106.72 1979.12,1082.8 1989.21,1082.8 1989.21,1115.54 1999.29,1115.54 1999.29,1101.68 2009.37,1101.68 2009.37,1109.24 \n",
       "  2019.45,1109.24 2019.45,1125.61 2029.53,1125.61 2029.53,1097.91 2039.62,1097.91 2039.62,1136.94 2049.7,1136.94 2049.7,1119.31 2059.78,1119.31 2059.78,1140.72 \n",
       "  2069.86,1140.72 2069.86,1113.02 2079.94,1113.02 2079.94,1128.13 2090.02,1128.13 2090.02,1177.24 2100.11,1177.24 2100.11,1152.05 2110.19,1152.05 2110.19,1136.94 \n",
       "  2120.27,1136.94 2120.27,1179.76 2130.35,1179.76 2130.35,1169.68 2140.43,1169.68 2140.43,1174.72 2150.52,1174.72 2150.52,1188.57 2160.6,1188.57 \n",
       "  2170.68,1188.57 2170.68,1147.02 2180.76,1147.02 2180.76,1165.91 2190.84,1165.91 2190.84,1153.31 2200.92,1153.31 2200.92,1139.46 2211.01,1139.46 2211.01,1172.2 \n",
       "  2221.09,1172.2 2221.09,1134.42 2231.17,1134.42 2231.17,1178.5 2241.25,1178.5 2241.25,1204.94 2251.33,1204.94 2251.33,1173.46 2261.41,1173.46 2261.41,1218.79 \n",
       "  2271.5,1218.79 2271.5,1240.2 2281.58,1240.2 2281.58,1212.5 2291.66,1212.5 2291.66,1446.71 \n",
       "  \"/>\n",
       "<polygon clip-path=\"url(#clip8700)\" points=\"\n",
       "1989.93,251.724 2280.76,251.724 2280.76,130.764 1989.93,130.764 \n",
       "  \" fill=\"#ffffff\" fill-rule=\"evenodd\" fill-opacity=\"1\"/>\n",
       "<polyline clip-path=\"url(#clip8700)\" style=\"stroke:#000000; stroke-width:4; stroke-opacity:1; fill:none\" points=\"\n",
       "  1989.93,251.724 2280.76,251.724 2280.76,130.764 1989.93,130.764 1989.93,251.724 \n",
       "  \"/>\n",
       "<polyline clip-path=\"url(#clip8700)\" style=\"stroke:#009af9; stroke-width:4; stroke-opacity:1; fill:none\" points=\"\n",
       "  2013.93,191.244 2157.93,191.244 \n",
       "  \"/>\n",
       "<g clip-path=\"url(#clip8700)\">\n",
       "<text style=\"fill:#000000; fill-opacity:1; font-family:Arial,Helvetica Neue,Helvetica,sans-serif; font-size:48px; text-anchor:start;\" transform=\"rotate(0, 2181.93, 208.744)\" x=\"2181.93\" y=\"208.744\">y1</text>\n",
       "</g>\n",
       "</svg>\n"
      ]
     },
     "execution_count": 51,
     "metadata": {},
     "output_type": "execute_result"
    }
   ],
   "source": [
    "abs_file = \"/home/iwsatlas1/hayward/Documents/Simulations/perPENdicular_sim/Data/prop_map_1_nt_DetectedPhotons.csv\"\n",
    "df = CSV.read(abs_file, delim = ',', header = [\"ABS\",\"Alpha\",\"Wavelength\"], comment = \"#\")\n",
    "h = fit(Histogram, df.Wavelength, nbins = 200)\n",
    "plot(h, st=:step)"
   ]
  },
  {
   "cell_type": "code",
   "execution_count": 60,
   "metadata": {},
   "outputs": [
    {
     "data": {
      "text/plain": [
       "\"input_files/ABSTest.csv\""
      ]
     },
     "execution_count": 60,
     "metadata": {},
     "output_type": "execute_result"
    }
   ],
   "source": [
    "ems_file = \"input_files/Exp4.csv\"\n",
    "df = CSV.read(ems_file, delim = ',', header = [\"Wavelength\", \"ABS\",\"EMS\",\"RI\"])\n",
    "\n",
    "df_holder == df\n",
    "df_holder.ABS = df.ABS*2\n",
    "CSV.write()"
   ]
  },
  {
   "cell_type": "code",
   "execution_count": 4,
   "metadata": {},
   "outputs": [
    {
     "name": "stderr",
     "output_type": "stream",
     "text": [
      "\u001b[91mUnexpected end of input\u001b[39m\n",
      "\u001b[91m ...when parsing byte with value '0'\u001b[39m\n",
      "Stacktrace:\n",
      " [1] "
     ]
    },
    {
     "ename": "InterruptException",
     "evalue": "InterruptException:",
     "output_type": "error",
     "traceback": [
      "InterruptException:",
      "",
      "Stacktrace:",
      " [1] file(::String, ::Array{String,1}, ::Bool, ::Int64, ::Nothing, ::Int64, ::Int64, ::Bool, ::Nothing, ::Bool, ::Bool, ::Array{String,1}, ::String, ::Char, ::Bool, ::Char, ::Nothing, ::Nothing, ::Char, ::Nothing, ::UInt8, ::Nothing, ::Nothing, ::Nothing, ::Nothing, ::Dict{Int8,Int8}, ::Bool, ::Float64, ::Bool, ::Bool, ::Bool, ::Bool, ::Nothing) at /user/.julia/packages/CSV/KgT4M/src/CSV.jl:335",
      " [2] #File#21 at /user/.julia/packages/CSV/KgT4M/src/CSV.jl:195 [inlined]",
      " [3] (::getfield(Core, Symbol(\"#kw#Type\")))(::NamedTuple{(:delim, :header),Tuple{Char,Array{String,1}}}, ::Type{CSV.File}, ::String) at ./none:0",
      " [4] #read#61 at /user/.julia/packages/CSV/KgT4M/src/CSV.jl:688 [inlined]",
      " [5] (::getfield(CSV, Symbol(\"#kw##read\")))(::NamedTuple{(:delim, :header),Tuple{Char,Array{String,1}}}, ::typeof(CSV.read), ::String) at ./none:0",
      " [6] top-level scope at In[4]:2"
     ]
    },
    {
     "name": "stderr",
     "output_type": "stream",
     "text": [
      "\u001b[1merror\u001b[22m\u001b[1m(\u001b[22m::String\u001b[1m)\u001b[22m at \u001b[1m./error.jl:33\u001b[22m\n",
      " [2] \u001b[1m_error\u001b[22m\u001b[1m(\u001b[22m::String, ::JSON.Parser.StreamingParserState{Sockets.TCPSocket}\u001b[1m)\u001b[22m at \u001b[1m/user/.julia/packages/JSON/d89fA/src/Parser.jl:150\u001b[22m\n",
      " [3] \u001b[1mbyteat\u001b[22m\u001b[1m(\u001b[22m::JSON.Parser.StreamingParserState{Sockets.TCPSocket}\u001b[1m)\u001b[22m at \u001b[1m/user/.julia/packages/JSON/d89fA/src/Parser.jl:59\u001b[22m\n",
      " [4] \u001b[1mchomp_space!\u001b[22m at \u001b[1m/user/.julia/packages/JSON/d89fA/src/Parser.jl:72\u001b[22m [inlined]\n",
      " [5] \u001b[1mparse_value\u001b[22m\u001b[1m(\u001b[22m::JSON.Parser.ParserContext{Dict{String,Any},Int64,true,nothing}, ::JSON.Parser.StreamingParserState{Sockets.TCPSocket}\u001b[1m)\u001b[22m at \u001b[1m/user/.julia/packages/JSON/d89fA/src/Parser.jl:160\u001b[22m\n",
      " [6] \u001b[1m#parse#2\u001b[22m\u001b[1m(\u001b[22m::Type, ::Type{Int64}, ::Bool, ::Nothing, ::Function, ::Sockets.TCPSocket\u001b[1m)\u001b[22m at \u001b[1m/user/.julia/packages/JSON/d89fA/src/Parser.jl:494\u001b[22m\n",
      " [7] \u001b[1mmacro expansion\u001b[22m at \u001b[1m/user/.julia/packages/JSON/d89fA/src/Parser.jl:492\u001b[22m [inlined]\n",
      " [8] \u001b[1mmacro expansion\u001b[22m at \u001b[1m/user/.julia/packages/Blink/AO8uN/src/AtomShell/process.jl:111\u001b[22m [inlined]\n",
      " [9] \u001b[1m(::getfield(Blink.AtomShell, Symbol(\"##11#12\")){Electron})\u001b[22m\u001b[1m(\u001b[22m\u001b[1m)\u001b[22m at \u001b[1m./task.jl:259\u001b[22m\n"
     ]
    }
   ],
   "source": [
    "ems_file = \"input_files/Exp4.csv\"\n",
    "df = CSV.read(ems_file, delim = ',', header = [\"Wavelength\", \"ABS\",\"EMS\",\"RI\"])\n",
    "df_holder = DataFrame()\n",
    "for scale  in 0.5:0.5:10\n",
    "    for pos in 0:5:75\n",
    "        df_holder = DataFrame()\n",
    "        df_holder.Wavelength = df.Wavelength\n",
    "        df_holder.ABS = df.ABS*scale\n",
    "        df_holder.EMS = df.EMS\n",
    "        df_holder.RI = df.RI\n",
    "        \n",
    "        CSV.write(\"input_files/ABSTest.csv\", df_holder, writeheader = false)\n",
    "        \n",
    "        script = \"/PEN/gun/sourcePosition $(Float64.(pos)) mm\n",
    "        /PEN/det/setPosition $(Float64.(pos)) mm\n",
    "        /PEN/det/setDetName rod_$(pos)_$(Int(scale*10))\n",
    "         /run/beamOn 100000\"\n",
    "        cd(\"build\")\n",
    "        open(\"test.mac\",\"w\") do f\n",
    "           write(f,script)\n",
    "        end\n",
    "        run(`./PEN -m test.mac`)\n",
    "        cd(\"..\")\n",
    "    end\n",
    "end"
   ]
  },
  {
   "cell_type": "code",
   "execution_count": null,
   "metadata": {},
   "outputs": [],
   "source": []
  },
  {
   "cell_type": "code",
   "execution_count": 32,
   "metadata": {},
   "outputs": [
    {
     "ename": "MethodError",
     "evalue": "MethodError: objects of type Symbol are not callable",
     "output_type": "error",
     "traceback": [
      "MethodError: objects of type Symbol are not callable",
      "",
      "Stacktrace:",
      " [1] top-level scope at In[32]:1"
     ]
    }
   ],
   "source": [
    "plotattr(:Axis(:tickfonthalign))"
   ]
  },
  {
   "cell_type": "code",
   "execution_count": 36,
   "metadata": {},
   "outputs": [
    {
     "data": {
      "text/plain": [
       "Page(21, WebSocket(server, \u001b[32mCONNECTED\u001b[39m), Dict{String,Any}(\"webio\"=>##26#27{WebIOBlinkComm}(WebIOBlinkComm(Window(19, Electron(Process(`\u001b[4m/user/.julia/packages/Blink/AO8uN/deps/atom/electron\u001b[24m \u001b[4m/user/.julia/packages/Blink/AO8uN/src/AtomShell/main.js\u001b[24m \u001b[4mport\u001b[24m \u001b[4m5882\u001b[24m`, ProcessRunning), TCPSocket(RawFD(0x00000030) active, 0 bytes waiting), Dict{String,Any}(\"callback\"=>##1#2())), Page(#= circular reference @-5 =#), Task (done) @0x00007f0e87836710))),\"callback\"=>##1#2()), Distributed.Future(1, 1, 22, Some(true)))"
      ]
     },
     "execution_count": 36,
     "metadata": {},
     "output_type": "execute_result"
    }
   ],
   "source": [
    "@. model(x, p) = p[1]*x^2 + p[2]*x + p[3]\n",
    "vals = DataFrame(Pos=[], Scale=[], Wavelength=[])\n",
    "sub = length(\"Data/rod_\")+1\n",
    "files = glob(\"rod*\",\"Data/\")\n",
    "n_files = 1\n",
    "holder = zeros(16,20)\n",
    "\n",
    "w = Window()\n",
    "    if length(glob(\"rod*\",\"Data/\")) > n_files\n",
    "        files = glob(\"rod*\",\"Data/\")\n",
    "        n_files = length(files)\n",
    "            for file in values(files)\n",
    "                spectra = plot()\n",
    "                sub_string = file[sub:end]\n",
    "                run_params = split(sub_string, \"_\")[1:2]\n",
    "                run_pos = parse(Float64, run_params[1])\n",
    "                run_scale = parse(Float64, run_params[2])/10\n",
    "\n",
    "                df = CSV.read(file, comment = \"#\", header = [\"param1\", \"param2\", \"wavelength\"])\n",
    "                h = fit(Histogram, df.wavelength, 400:0.5:500)\n",
    "                peak_bin = findfirst(isequal(maximum(h.weights)),h.weights)\n",
    "                fit_result = curve_fit(model, h.edges[1][peak_bin - 30:peak_bin+30],\n",
    "                    h.weights[peak_bin - 30:peak_bin+30], [1.,1.,1.])\n",
    "        \n",
    "                plot!(spectra, h, st=:step)\n",
    "                plot!(spectra, h.edges[1][peak_bin - 30:peak_bin+30], x->model(x, fit_result.param))\n",
    "\n",
    "                d_fit = diff(model(400:0.01:500, fit_result.param))\n",
    "                min = minimum(abs.(d_fit))\n",
    "                peak_bin = findfirst(isequal(min), abs.(d_fit))\n",
    "                peak_wv = collect(400:0.01:500)[peak_bin]\n",
    "\n",
    "                push!(vals,[run_pos, run_scale, peak_wv])\n",
    "                pos_bin = findfirst(isequal(run_pos), 0:5:75)\n",
    "                scale_bin = findfirst(isequal(run_scale),0.5:0.5:10)\n",
    "                holder[pos_bin, scale_bin] = peak_wv\n",
    "                savefig(spectra, \"Plots/$(run_pos)_$(run_scale).png\")\n",
    "            end\n",
    "            body!(w, heatmap(0.5:0.5:10,0:5:75, holder, xlabel = \"ABS Scaling\",\n",
    "            ylabel = \"Source Position [mm]\", colorbar_title =\"Peak Wavelength [nm]\",clims = [400,480],\n",
    "            ztickfontvalign=:right))\n",
    "        \n",
    "    end\n"
   ]
  },
  {
   "cell_type": "code",
   "execution_count": 54,
   "metadata": {},
   "outputs": [],
   "source": [
    "for i in 1:1:16\n",
    "    pos = collect(0.5:0.5:10)[i]\n",
    "    p = plot(0:5:75, holder[:,i], xlabel = \"Distance from slit [mm]\", ylabel = \"Peak Wavelength [nm]\")\n",
    "    savefig(p, \"Plots/PeakSpectra/VariableScale/$(pos)mm_peaks.pdf\")\n",
    "end"
   ]
  },
  {
   "cell_type": "code",
   "execution_count": 255,
   "metadata": {},
   "outputs": [
    {
     "data": {
      "text/plain": [
       "400"
      ]
     },
     "execution_count": 255,
     "metadata": {},
     "output_type": "execute_result"
    }
   ],
   "source": [
    "holder[1,1] = 400"
   ]
  },
  {
   "cell_type": "code",
   "execution_count": 2,
   "metadata": {},
   "outputs": [
    {
     "name": "stderr",
     "output_type": "stream",
     "text": [
      "\u001b[91mUnexpected end of input\u001b[39m\n",
      "\u001b[91m ...when parsing byte with value '0'\u001b[39m\n",
      "Stacktrace:\n",
      " [1] "
     ]
    },
    {
     "ename": "InterruptException",
     "evalue": "InterruptException:",
     "output_type": "error",
     "traceback": [
      "InterruptException:",
      "",
      "Stacktrace:",
      " [1] copy(::Base.Broadcast.Broadcasted{Base.Broadcast.DefaultArrayStyle{1},Tuple{Base.OneTo{Int64}},typeof(SoftGlobalScope.shift_linenum),Tuple{Array{Any,1},Int64,Base.RefValue{Symbol}}}) at ./broadcast.jl:791",
      " [2] materialize(::Base.Broadcast.Broadcasted{Base.Broadcast.DefaultArrayStyle{1},Nothing,typeof(SoftGlobalScope.shift_linenum),Tuple{Array{Any,1},Int64,Base.RefValue{Symbol}}}) at ./broadcast.jl:753",
      " [3] shift_linenum at /user/.julia/packages/SoftGlobalScope/cSbw5/src/SoftGlobalScope.jl:187 [inlined]",
      " [4] add_linenum(::Expr, ::Int64, ::Symbol) at /user/.julia/packages/SoftGlobalScope/cSbw5/src/SoftGlobalScope.jl:194"
     ]
    },
    {
     "name": "stderr",
     "output_type": "stream",
     "text": [
      "\u001b[1merror\u001b[22m\u001b[1m(\u001b[22m::String\u001b[1m)\u001b[22m at \u001b[1m./error.jl:33\u001b[22m\n",
      " [2] \u001b[1m_error\u001b[22m\u001b[1m(\u001b[22m::String, ::JSON.Parser.StreamingParserState{Sockets.TCPSocket}\u001b[1m)\u001b[22m at \u001b[1m/user/.julia/packages/JSON/d89fA/src/Parser.jl:150\u001b[22m\n",
      " [3] \u001b[1mbyteat\u001b[22m\u001b[1m(\u001b[22m::JSON.Parser.StreamingParserState{Sockets.TCPSocket}\u001b[1m)\u001b[22m at \u001b[1m/user/.julia/packages/JSON/d89fA/src/Parser.jl:59\u001b[22m\n",
      " [4] \u001b[1mchomp_space!\u001b[22m at \u001b[1m/user/.julia/packages/JSON/d89fA/src/Parser.jl:72\u001b[22m [inlined]\n",
      " [5] \u001b[1mparse_value\u001b[22m\u001b[1m(\u001b[22m::JSON.Parser.ParserContext{Dict{String,Any},Int64,true,nothing}, ::JSON.Parser.StreamingParserState{Sockets.TCPSocket}\u001b[1m)\u001b[22m at \u001b[1m/user/.julia/packages/JSON/d89fA/src/Parser.jl:160\u001b[22m\n",
      " [6] \u001b[1m#parse#2\u001b[22m\u001b[1m(\u001b[22m::Type, ::Type{Int64}, ::Bool, ::Nothing, ::Function, ::Sockets.TCPSocket\u001b[1m)\u001b[22m at \u001b[1m/user/.julia/packages/JSON/d89fA/src/Parser.jl:494\u001b[22m\n",
      " [7] \u001b[1mmacro expansion\u001b[22m at \u001b[1m/user/.julia/packages/JSON/d89fA/src/Parser.jl:492\u001b[22m [inlined]\n",
      " [8] \u001b[1mmacro expansion\u001b[22m at \u001b[1m/user/.julia/packages/Blink/AO8uN/src/AtomShell/process.jl:111\u001b[22m [inlined]\n",
      " [9] \u001b[1m(::getfield(Blink.AtomShell, Symbol(\"##11#12\")){Electron})\u001b[22m\u001b[1m(\u001b[22m\u001b[1m)\u001b[22m at \u001b[1m./task.jl:259\u001b[22m\n"
     ]
    }
   ],
   "source": [
    "using CSV, DataFrames\n",
    "\n",
    "ems_file = \"input_files/Exp4.csv\"\n",
    "df = CSV.read(ems_file, delim = ',', header = [\"Wavelength\", \"ABS\",\"EMS\",\"RI\"])\n",
    "df_holder = DataFrame()\n",
    "\n",
    "ranges = [0.5:0.5:2.5, 3.0:0.5:5.0, 5.5:0.5:7.5, 8.0:0.5:10]\n",
    "\n",
    "\n",
    "    for scale  in 0.5:0.5:10\n",
    "        for pos in 0:5:75\n",
    "            df_holder = DataFrame()\n",
    "            df_holder.Wavelength = df.Wavelength\n",
    "            df_holder.ABS = df.ABS*scale\n",
    "            df_holder.EMS = df.EMS\n",
    "            df_holder.RI = df.RI\n",
    "\n",
    "            CSV.write(\"input_files/ABSTest.csv\", df_holder, writeheader = false)\n",
    "\n",
    "            script = \"\n",
    "            /PEN/gun/sourcePosition $(Float64.(pos)) mm\n",
    "            /PEN/det/setPosition $(Float64.(pos)) mm\n",
    "            /PEN/det/setDetName rod_$(pos)_$(Int(scale*10))\n",
    "             /run/beamOn 100000\"\n",
    "            cd(\"build\")\n",
    "            open(\"test.mac\",\"w\") do f\n",
    "               write(f,script)\n",
    "            end\n",
    "            run(`./PEN -m test.mac`)\n",
    "            cd(\"..\")\n",
    "        end\n",
    "    end\n"
   ]
  },
  {
   "cell_type": "code",
   "execution_count": null,
   "metadata": {},
   "outputs": [],
   "source": [
    "Threads.@threads for value in values(ranges)\n",
    "    for nums in value\n",
    "        println(nums)\n",
    "    end\n",
    "end"
   ]
  }
 ],
 "metadata": {
  "@webio": {
   "lastCommId": null,
   "lastKernelId": null
  },
  "kernelspec": {
   "display_name": "Julia 1.1.1",
   "language": "julia",
   "name": "julia-1.1"
  },
  "language_info": {
   "file_extension": ".jl",
   "mimetype": "application/julia",
   "name": "julia",
   "version": "1.1.1"
  }
 },
 "nbformat": 4,
 "nbformat_minor": 2
}
